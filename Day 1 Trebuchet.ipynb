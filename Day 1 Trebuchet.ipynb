{
 "cells": [
  {
   "cell_type": "code",
   "execution_count": 11,
   "id": "8091087e",
   "metadata": {},
   "outputs": [
    {
     "data": {
      "text/plain": [
       "56049"
      ]
     },
     "execution_count": 11,
     "metadata": {},
     "output_type": "execute_result"
    }
   ],
   "source": [
    "# --- Day 1: Trebuchet?! ---\n",
    "from aocd import get_data\n",
    "from dotenv import load_dotenv\n",
    "import os\n",
    "def Trebuchet():\n",
    "    load_dotenv()\n",
    "    data = get_data(session=os.environ.get('session'), day=1, year=2023)\n",
    "\n",
    "    each_line = data.split('\\n')\n",
    "    for i in range(len(each_line)):\n",
    "        each_line[i] = ''.join(filter(str.isdigit, each_line[i]))\n",
    "    \n",
    "    for num in range(len(each_line)):\n",
    "        if len(each_line[num]) == 1:\n",
    "            each_line[num] = each_line[num]*1 + each_line[num]\n",
    "        if len(each_line[num]) > 2:\n",
    "            each_line[num] = each_line[num][0]*1 + each_line[num][-1]\n",
    "        \n",
    "    return sum([int(ints) for ints in each_line])\n",
    "    \n",
    "Trebuchet()\n"
   ]
  },
  {
   "cell_type": "code",
   "execution_count": null,
   "id": "fcd68b04",
   "metadata": {},
   "outputs": [],
   "source": [
    "# --- Part Two ---\n",
    "from aocd import get_data\n",
    "from dotenv import load_dotenv\n",
    "import os\n",
    "\n",
    "def Trebuchet():\n",
    "    load_dotenv()\n",
    "    data = get_data(session=os.environ.get('session'), day=1, year=2023)\n",
    "    string_to_num = {'twone': '21', 'threeight': '38', 'fiveight': '58', 'sevenine': '79', 'nineight': '98', 'oneight': '18', 'eightwo': '82', 'eighthree': '83', 'one': '1', 'two': '2', 'three': '3', 'four': '4', 'five': '5', 'six': '6', 'seven': '7', 'eight': '8', 'nine': '9'}\n",
    "\n",
    "    each_line = data.split('\\n')\n",
    "    for j in range(len(each_line)):\n",
    "        for i in string_to_num:\n",
    "            if i in each_line[j]:\n",
    "#                 print(i)\n",
    "                each_line[j] = each_line[j].replace(i, string_to_num[i])\n",
    "#     print(each_line)\n",
    "    for i in range(len(each_line)):\n",
    "        each_line[i] = ''.join(filter(str.isdigit, each_line[i]))\n",
    "\n",
    "    for num in range(len(each_line)):\n",
    "        if len(each_line[num]) == 1:\n",
    "            each_line[num] = each_line[num]*1 + each_line[num]\n",
    "        if len(each_line[num]) > 2:\n",
    "            each_line[num] = each_line[num][0]*1 + each_line[num][-1]\n",
    "    \n",
    "        \n",
    "    return sum([int(ints) for ints in each_line])\n",
    "    \n",
    "Trebuchet()\n"
   ]
  },
  {
   "cell_type": "code",
   "execution_count": null,
   "id": "b4e7e3f1",
   "metadata": {},
   "outputs": [],
   "source": [
    "i = ['145']\n",
    "print(i[0][-1])\n",
    "i[0] = i[0][0]*1 + i[0][-1]\n",
    "print(i)"
   ]
  },
  {
   "cell_type": "code",
   "execution_count": null,
   "id": "5b37cb8e",
   "metadata": {},
   "outputs": [],
   "source": [
    "string_to_num = {'one': '1', 'two': '2', 'three': '3', 'four': '4', 'five': '5', 'six': '6', 'seven': '7', 'eight': '8', 'nine': '9'}\n",
    "text = ['43threeightctfive']\n",
    "# if 'one' in text[0]:\n",
    "#     print('hi')\n",
    "    \n",
    "# print(string_to_num)\n",
    "# if ''\n",
    "# for j in range(len(text)):\n",
    "#     for i in string_to_num:\n",
    "#         if i in text[j]:\n",
    "#             print(i)\n",
    "#             text[j] = text[j].replace(i, string_to_num[i])\n",
    "#     #         print(text[0].replace(i, 'hi'))\n",
    "# print(text)\n",
    "# if 'one' in string_to_num.keys():\n",
    "#     print('hi')\n",
    "random_list = []\n",
    "for i in string_to_num:\n",
    "    print(str(text[0].find(i)))\n",
    "    random_list.append(str(text[0].find(i)))\n",
    "\n",
    "print(random_list)\n",
    "\n",
    "# for i in range(len(random_list)-1):\n",
    "#     if random_list \n",
    "# for i in range(len(text)):\n",
    "#     if "
   ]
  },
  {
   "cell_type": "code",
   "execution_count": 6,
   "id": "df968ffe",
   "metadata": {},
   "outputs": [
    {
     "ename": "NameError",
     "evalue": "name 'one' is not defined",
     "output_type": "error",
     "traceback": [
      "\u001b[1;31m---------------------------------------------------------------------------\u001b[0m",
      "\u001b[1;31mNameError\u001b[0m                                 Traceback (most recent call last)",
      "\u001b[1;32m~\\AppData\\Local\\Temp/ipykernel_9640/3250728141.py\u001b[0m in \u001b[0;36m<module>\u001b[1;34m\u001b[0m\n\u001b[1;32m----> 1\u001b[1;33m \u001b[0mone\u001b[0m\u001b[1;33m,\u001b[0m \u001b[0mtwo\u001b[0m\u001b[1;33m,\u001b[0m \u001b[0mthree\u001b[0m\u001b[1;33m,\u001b[0m \u001b[0mfour\u001b[0m\u001b[1;33m,\u001b[0m \u001b[0mfive\u001b[0m\u001b[1;33m,\u001b[0m \u001b[0msix\u001b[0m\u001b[1;33m,\u001b[0m \u001b[0mseven\u001b[0m\u001b[1;33m,\u001b[0m \u001b[0meight\u001b[0m\u001b[1;33m,\u001b[0m \u001b[0mnine\u001b[0m\u001b[1;33m\u001b[0m\u001b[1;33m\u001b[0m\u001b[0m\n\u001b[0m\u001b[0;32m      2\u001b[0m \u001b[1;33m\u001b[0m\u001b[0m\n\u001b[0;32m      3\u001b[0m \u001b[0mtwone\u001b[0m\u001b[1;33m,\u001b[0m \u001b[0mthreeight\u001b[0m\u001b[1;33m,\u001b[0m \u001b[0mfiveight\u001b[0m\u001b[1;33m,\u001b[0m \u001b[0msevenine\u001b[0m\u001b[1;33m,\u001b[0m \u001b[0mnineight\u001b[0m\u001b[1;33m,\u001b[0m \u001b[0moneight\u001b[0m\u001b[1;33m,\u001b[0m \u001b[0meightwo\u001b[0m\u001b[1;33m,\u001b[0m \u001b[0meighthree\u001b[0m\u001b[1;33m\u001b[0m\u001b[1;33m\u001b[0m\u001b[0m\n",
      "\u001b[1;31mNameError\u001b[0m: name 'one' is not defined"
     ]
    }
   ],
   "source": [
    "one, two, three, four, five, six, seven, eight, nine\n",
    "\n",
    "twone, threeight, fiveight, sevenine, nineight, oneight, eightwo, eighthree"
   ]
  },
  {
   "cell_type": "code",
   "execution_count": 7,
   "id": "24dc46fc",
   "metadata": {},
   "outputs": [
    {
     "name": "stdout",
     "output_type": "stream",
     "text": [
      "Collecting python-dotenv\n",
      "  Using cached python_dotenv-1.0.0-py3-none-any.whl (19 kB)\n",
      "Installing collected packages: python-dotenv\n",
      "Successfully installed python-dotenv-1.0.0\n"
     ]
    }
   ],
   "source": [
    "!pip install python-dotenv\n"
   ]
  },
  {
   "cell_type": "code",
   "execution_count": null,
   "id": "d25bc1e4",
   "metadata": {},
   "outputs": [],
   "source": []
  }
 ],
 "metadata": {
  "kernelspec": {
   "display_name": "Python 3 (ipykernel)",
   "language": "python",
   "name": "python3"
  },
  "language_info": {
   "codemirror_mode": {
    "name": "ipython",
    "version": 3
   },
   "file_extension": ".py",
   "mimetype": "text/x-python",
   "name": "python",
   "nbconvert_exporter": "python",
   "pygments_lexer": "ipython3",
   "version": "3.9.7"
  }
 },
 "nbformat": 4,
 "nbformat_minor": 5
}
