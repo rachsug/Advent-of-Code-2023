{
 "cells": [
  {
   "cell_type": "code",
   "execution_count": 44,
   "id": "d1072ed4",
   "metadata": {},
   "outputs": [
    {
     "data": {
      "text/plain": [
       "514969"
      ]
     },
     "execution_count": 44,
     "metadata": {},
     "output_type": "execute_result"
    }
   ],
   "source": [
    "import os\n",
    "from dotenv import load_dotenv\n",
    "from aocd import get_data\n",
    "\n",
    "def gear_ratios():\n",
    "    load_dotenv()\n",
    "    data = get_data(session=os.environ.get('session'), day=3, year=2023).split('\\n')\n",
    "\n",
    "    length = len(data)\n",
    "    data.insert(0, '.'*length)\n",
    "    data.append('.'*length)\n",
    "\n",
    "    cleaned_data = []\n",
    "    rows = []\n",
    "    for i in range(length+2):\n",
    "        for j in range(length):\n",
    "            rows.append(data[i][j])\n",
    "        cleaned_data.append(rows)\n",
    "        rows = []\n",
    "\n",
    "    for i in range(length+1):\n",
    "        for j in range(length):\n",
    "            if j == 0:\n",
    "                cleaned_data[i].insert(0, '.')\n",
    "\n",
    "            if j == (length-2):\n",
    "                cleaned_data[i].append('.')\n",
    "\n",
    "    first_digit = True\n",
    "    first_digit_index = 0\n",
    "    for i in range(length+1):\n",
    "        for j in range(length+1):\n",
    "            if cleaned_data[i][j].isdigit() and first_digit:\n",
    "                first_digit = False\n",
    "                first_digit_index = j\n",
    "                cleaned_data[i][j] = cleaned_data[i][first_digit_index]\n",
    "                continue\n",
    "            if cleaned_data[i][j].isdigit() and not first_digit:\n",
    "                cleaned_data[i][first_digit_index] += cleaned_data[i][j]\n",
    "                cleaned_data[i][j] = '0'\n",
    "            if not cleaned_data[i][j].isdigit():\n",
    "                first_digit = True\n",
    "                \n",
    "    res = 0\n",
    "    \n",
    "    for i in range(1, length):\n",
    "        for j in range(1, length):\n",
    "            if cleaned_data[i][j].isdigit() or cleaned_data[i][j] == '.':\n",
    "                continue\n",
    "            else:\n",
    "                cleaned_data[i][j] = '*'\n",
    "    \n",
    "    for i in range(1, len(cleaned_data)-1):\n",
    "        for j in range(1, length):\n",
    "            if cleaned_data[i][j].isdigit():\n",
    "                if len(cleaned_data[i][j]) == 1:\n",
    "                    if cleaned_data[i][j-1] == '*' or cleaned_data[i][j+1] == '*' or cleaned_data[i-1][j] == '*' or cleaned_data[i+1][j] == '*' or cleaned_data[i-1][j-1] == '*' or cleaned_data[i-1][j+1] == '*' or cleaned_data[i+1][j-1] == '*' or cleaned_data[i+1][j+1] == '*':\n",
    "                        res += int(cleaned_data[i][j])\n",
    "                if len(cleaned_data[i][j]) == 2:\n",
    "                    if cleaned_data[i][j-1] == '*' or cleaned_data[i-1][j] == '*' or cleaned_data[i+1][j] == '*' or cleaned_data[i-1][j-1] == '*' or cleaned_data[i-1][j+1] == '*' or cleaned_data[i+1][j-1] == '*' or cleaned_data[i+1][j+1] == '*' or cleaned_data[i][j+2] == '*' or cleaned_data[i-1][j+2] == '*' or cleaned_data[i+1][j+2] == '*':\n",
    "                        res += int(cleaned_data[i][j])\n",
    "                if len(cleaned_data[i][j]) == 3:\n",
    "                    if cleaned_data[i][j-1] == '*' or cleaned_data[i-1][j] == '*' or cleaned_data[i+1][j] == '*' or cleaned_data[i-1][j-1] == '*' or cleaned_data[i-1][j+1] == '*' or cleaned_data[i+1][j-1] == '*' or cleaned_data[i+1][j+1] == '*' or cleaned_data[i-1][j+2] == '*' or cleaned_data[i+1][j+2] == '*' or cleaned_data[i][j+3] == '*' or cleaned_data[i-1][j+3] == '*' or cleaned_data[i+1][j+3] == '*':\n",
    "                        res += int(cleaned_data[i][j])\n",
    "                \n",
    "    return res\n",
    "\n",
    "gear_ratios()\n",
    "\n",
    "# correct answer 514969"
   ]
  },
  {
   "cell_type": "markdown",
   "id": "cbe033a8",
   "metadata": {},
   "source": [
    "'0'.isdigit()\n",
    "'1'+''"
   ]
  },
  {
   "cell_type": "code",
   "execution_count": 258,
   "id": "145d6229",
   "metadata": {},
   "outputs": [
    {
     "name": "stdout",
     "output_type": "stream",
     "text": [
      "length is: 1\n",
      "0\n",
      "0\n",
      "[['.', 'hi', '.'], ['.', 'hi', '.']]\n",
      "3\n"
     ]
    }
   ],
   "source": [
    "sample_grid = [['hi'],['hi']]\n",
    "print('length is:', len(sample_grid[0]))\n",
    "for i in range(len(sample_grid)):\n",
    "    for j in range(len(sample_grid[i])):\n",
    "        print(j)\n",
    "        if j == 0:\n",
    "            sample_grid[i].insert(0, '.')\n",
    "        \n",
    "        if j == (len(sample_grid[i])-2):\n",
    "            sample_grid[i].append('.')\n",
    "print(sample_grid)\n",
    "print(len(sample_grid[0]))\n",
    "            \n",
    "    "
   ]
  },
  {
   "cell_type": "code",
   "execution_count": 313,
   "id": "6d50a5fe",
   "metadata": {},
   "outputs": [
    {
     "ename": "SyntaxError",
     "evalue": "invalid syntax (Temp/ipykernel_30848/1345476266.py, line 1)",
     "output_type": "error",
     "traceback": [
      "\u001b[1;36m  File \u001b[1;32m\"C:\\Users\\joshu\\AppData\\Local\\Temp/ipykernel_30848/1345476266.py\"\u001b[1;36m, line \u001b[1;32m1\u001b[0m\n\u001b[1;33m    your answer is too low\u001b[0m\n\u001b[1;37m         ^\u001b[0m\n\u001b[1;31mSyntaxError\u001b[0m\u001b[1;31m:\u001b[0m invalid syntax\n"
     ]
    }
   ],
   "source": [
    "#291973: your answer is too low"
   ]
  },
  {
   "cell_type": "code",
   "execution_count": 436,
   "id": "5ea7b224",
   "metadata": {},
   "outputs": [
    {
     "data": {
      "text/plain": [
       "14150"
      ]
     },
     "execution_count": 436,
     "metadata": {},
     "output_type": "execute_result"
    }
   ],
   "source": [
    "514969-500819"
   ]
  },
  {
   "cell_type": "code",
   "execution_count": null,
   "id": "cdf0967e",
   "metadata": {},
   "outputs": [],
   "source": []
  },
  {
   "cell_type": "code",
   "execution_count": 31,
   "id": "a6d19699",
   "metadata": {},
   "outputs": [
    {
     "data": {
      "text/plain": [
       "500819"
      ]
     },
     "execution_count": 31,
     "metadata": {},
     "output_type": "execute_result"
    }
   ],
   "source": [
    "import os\n",
    "from dotenv import load_dotenv\n",
    "from aocd import get_data\n",
    "\n",
    "def gear_ratios():\n",
    "    load_dotenv()\n",
    "    data = get_data(session=os.environ.get('session'), day=3, year=2023).split('\\n')\n",
    "\n",
    "#     '467..114..\\n...*......\\n..35..633.\\n......#...\\n617*......\\n.....+.58.\\n..592.....\\n......755.\\n...$.*....\\n.664.598..'.split('\\n')\n",
    "#     get_data(session=os.environ.get('session'), day=3, year=2023).split('\\n')\n",
    "    length = len(data)\n",
    "#     print(data[0][5].isdigit())\n",
    "#     print(data[1])\n",
    "#     data[0][0] = '1'\n",
    "#     new_data = [[0]*len(data)]*len(data)\n",
    "#     for i in range(len(data)):\n",
    "#         for j in range(len(data)):\n",
    "#             if (not data[i][j].isdigit()) or (data[i][j] != '.'):\n",
    "#                 new_data[i][j] = data[i][j].replace(data[i][j], '*')\n",
    "#             elif data[i][j].isdigit() or data[i][j] == '.':\n",
    "#                 new_data[i][j] = data[i][j]\n",
    "#     print(data[0], 'hi', data[1])\n",
    "    data.insert(0, '.'*length)\n",
    "    data.append('.'*length)\n",
    "#     print(data[-1])\n",
    "\n",
    "\n",
    "    cleaned_data = []\n",
    "    rows = []\n",
    "    for i in range(length+2):\n",
    "#         print(data[i])\n",
    "        for j in range(length):\n",
    "            rows.append(data[i][j])\n",
    "        cleaned_data.append(rows)\n",
    "        rows = []\n",
    "        \n",
    "\n",
    "#     print(cols[1])\n",
    "#     print(list(data[1]))\n",
    "\n",
    "\n",
    "    for i in range(length+1):\n",
    "        for j in range(length):\n",
    "#             print(data[i])\n",
    "            if j == 0:\n",
    "                cleaned_data[i].insert(0, '.')\n",
    "\n",
    "            if j == (length-2):\n",
    "                cleaned_data[i].append('.')\n",
    "\n",
    "#     print(cleaned_data)\n",
    "    first_digit = True\n",
    "    first_digit_index = 0\n",
    "    for i in range(length+1):\n",
    "        for j in range(length+1):\n",
    "#             print(cols[i][j])\n",
    "            if cleaned_data[i][j].isdigit() and first_digit:\n",
    "                first_digit = False\n",
    "                first_digit_index = j\n",
    "                cleaned_data[i][j] = cleaned_data[i][first_digit_index]\n",
    "                continue\n",
    "            if cleaned_data[i][j].isdigit() and not first_digit:\n",
    "#                 cols[i][first_digit_index]\n",
    "                cleaned_data[i][first_digit_index] += cleaned_data[i][j]\n",
    "                cleaned_data[i][j] = '0'\n",
    "            if cleaned_data[i][j] == '.':\n",
    "                first_digit = True\n",
    "#     print(cleaned_data)\n",
    "    \n",
    "    res = 0\n",
    "    for i in range(1, length):\n",
    "#         print(cleaned_data[i])\n",
    "        for j in range(1, length):\n",
    "#             print(cleaned_data[i][j])\n",
    "            if cleaned_data[i][j].isdigit() or cleaned_data[i][j] == '.':\n",
    "                continue\n",
    "            else:\n",
    "                cleaned_data[i][j] = '*'\n",
    "#     print(cleaned_data)\n",
    "    \n",
    "    for i in range(len(cleaned_data)):\n",
    "#         print(cleaned_data[i])\n",
    "        for j in range(len(cleaned_data[i])):\n",
    "#             print(cleaned_data[3][j])\n",
    "            if cleaned_data[i][j].isdigit():\n",
    "#                 if cleaned_data[i][j] != '0':\n",
    "                if len(cleaned_data[i][j]) == 1:\n",
    "                    if cleaned_data[i][j-1] == '*' or cleaned_data[i][j+1] == '*' or cleaned_data[i-1][j] == '*' or cleaned_data[i+1][j] == '*' or cleaned_data[i-1][j-1] == '*' or cleaned_data[i-1][j+1] == '*' or cleaned_data[i+1][j-1] == '*' or cleaned_data[i+1][j+1] == '*':\n",
    "                        res += int(cleaned_data[i][j])\n",
    "#                         print('non zero', cleaned_data[i][j])\n",
    "#                         print(cleaned_data[i][j])\n",
    "                if len(cleaned_data[i][j]) == 2:\n",
    "                    if cleaned_data[i][j-1] == '*' or cleaned_data[i-1][j] == '*' or cleaned_data[i+1][j] == '*' or cleaned_data[i-1][j-1] == '*' or cleaned_data[i-1][j+1] == '*' or cleaned_data[i+1][j-1] == '*' or cleaned_data[i+1][j+1] == '*' or cleaned_data[i][j+2] == '*' or cleaned_data[i-1][j+2] == '*' or cleaned_data[i+1][j+2] == '*':\n",
    "                        res += int(cleaned_data[i][j])\n",
    "#                         print(cleaned_data[i][j])\n",
    "                if len(cleaned_data[i][j]) == 3:\n",
    "                    if cleaned_data[i][j-1] == '*' or cleaned_data[i-1][j] == '*' or cleaned_data[i+1][j] == '*' or cleaned_data[i-1][j-1] == '*' or cleaned_data[i-1][j+1] == '*' or cleaned_data[i+1][j-1] == '*' or cleaned_data[i+1][j+1] == '*' or cleaned_data[i-1][j+2] == '*' or cleaned_data[i+1][j+2] == '*' or cleaned_data[i][j+3] == '*' or cleaned_data[i-1][j+3] == '*' or cleaned_data[i+1][j+3] == '*':\n",
    "                        res += int(cleaned_data[i][j])\n",
    "#                         print(cleaned_data[i][j])\n",
    "                \n",
    "    return res\n",
    "\n",
    "gear_ratios()\n",
    "\n",
    "#     514969"
   ]
  },
  {
   "cell_type": "code",
   "execution_count": 17,
   "id": "c22ee8de",
   "metadata": {},
   "outputs": [
    {
     "data": {
      "text/plain": [
       "True"
      ]
     },
     "execution_count": 17,
     "metadata": {},
     "output_type": "execute_result"
    }
   ],
   "source": [
    "'1'.isdigit()"
   ]
  },
  {
   "cell_type": "code",
   "execution_count": null,
   "id": "6bb9288a",
   "metadata": {},
   "outputs": [],
   "source": []
  }
 ],
 "metadata": {
  "kernelspec": {
   "display_name": "Python 3 (ipykernel)",
   "language": "python",
   "name": "python3"
  },
  "language_info": {
   "codemirror_mode": {
    "name": "ipython",
    "version": 3
   },
   "file_extension": ".py",
   "mimetype": "text/x-python",
   "name": "python",
   "nbconvert_exporter": "python",
   "pygments_lexer": "ipython3",
   "version": "3.9.7"
  }
 },
 "nbformat": 4,
 "nbformat_minor": 5
}
